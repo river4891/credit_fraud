{
 "cells": [
  {
   "cell_type": "code",
   "execution_count": 2,
   "metadata": {},
   "outputs": [],
   "source": [
    "# %load credit_fraud_analysis.py\n",
    "# 使用逻辑回归对信用卡欺诈进行分类\n",
    "import pandas as pd\n",
    "import numpy as np\n",
    "import seaborn as sns\n",
    "import matplotlib.pyplot as plt\n",
    "import itertools\n",
    "from sklearn.linear_model import LogisticRegression\n",
    "from sklearn.model_selection import train_test_split\n",
    "from sklearn.metrics import confusion_matrix, precision_recall_curve\n",
    "from sklearn.preprocessing import StandardScaler\n",
    "import warnings\n",
    "\n",
    "warnings.filterwarnings(\"ignore\")"
   ]
  },
  {
   "cell_type": "code",
   "execution_count": 3,
   "metadata": {},
   "outputs": [],
   "source": [
    "# 混淆矩阵可视化\n",
    "def plot_confusion_matrix(\n",
    "    cm, classes, normalize=False, title='Confusion matrix\"', cmap=plt.cm.Blues\n",
    "):\n",
    "    plt.figure()\n",
    "    plt.imshow(cm, interpolation=\"nearest\", cmap=cmap)\n",
    "    plt.title(title)\n",
    "    plt.colorbar()\n",
    "    tick_marks = np.arange(len(classes))\n",
    "    plt.xticks(tick_marks, classes, rotation=0)\n",
    "    plt.yticks(tick_marks, classes)\n",
    "\n",
    "    thresh = cm.max() / 2.0\n",
    "    for i, j in itertools.product(range(cm.shape[0]), range(cm.shape[1])):\n",
    "        plt.text(\n",
    "            j,\n",
    "            i,\n",
    "            cm[i, j],\n",
    "            horizontalalignment=\"center\",\n",
    "            color=\"white\" if cm[i, j] > thresh else \"black\",\n",
    "        )\n",
    "\n",
    "    plt.tight_layout()\n",
    "    plt.ylabel(\"True label\")\n",
    "    plt.xlabel(\"Predicted label\")\n",
    "    plt.show()"
   ]
  },
  {
   "cell_type": "code",
   "execution_count": 4,
   "metadata": {},
   "outputs": [],
   "source": [
    "# 显示模型评估结果\n",
    "def show_metrics(cm):\n",
    "    tp = cm[1, 1]\n",
    "    fn = cm[1, 0]\n",
    "    fp = cm[0, 1]\n",
    "    tn = cm[0, 0]\n",
    "    print(\"精确率：{:.3f}\".format(tp / (tp + fp)))\n",
    "    print(\"召回率：{:.3f}\".format(tp / (tp + fn)))\n",
    "    print(\n",
    "        \"F1 值：{:.3f}\".format(\n",
    "            2\n",
    "            * (\n",
    "                ((tp / (tp + fp)) * (tp / (tp + fn)))\n",
    "                / ((tp / (tp + fp)) + (tp / (tp + fn)))\n",
    "            )\n",
    "        )\n",
    "    )"
   ]
  },
  {
   "cell_type": "code",
   "execution_count": 5,
   "metadata": {},
   "outputs": [],
   "source": [
    "# 绘制精确率 - 召回率曲线\n",
    "def plot_precision_recall(recall, precision):\n",
    "    plt.step(recall, precision, color=\"b\", alpha=0.2, where=\"post\")\n",
    "    plt.fill_between(recall, precision, step=\"post\", alpha=0.2, color=\"b\")\n",
    "    plt.plot(recall, precision, linewidth=2)\n",
    "    plt.xlim([0.0, 1])\n",
    "    plt.ylim([0.0, 1.05])\n",
    "    plt.xlabel(\"召回率\")\n",
    "    plt.ylabel(\"精确率\")\n",
    "    plt.title(\"精确率 - 召回率 曲线\")\n",
    "    plt.show()"
   ]
  },
  {
   "cell_type": "code",
   "execution_count": null,
   "metadata": {},
   "outputs": [],
   "source": [
    "# 数据加载\n",
    "data = pd.read_csv(\"./creditcard.csv\")"
   ]
  },
  {
   "cell_type": "code",
   "execution_count": null,
   "metadata": {},
   "outputs": [],
   "source": [
    "# 数据探索\n",
    "print(data.describe())\n",
    "# 设置 plt 正确显示中文\n",
    "plt.rcParams[\"font.sans-serif\"] = [\"SimHei\"]\n",
    "# 绘制类别分布\n",
    "plt.figure()\n",
    "ax = sns.countplot(x=\"Class\", data=data)\n",
    "plt.title(\"类别分布\")\n",
    "plt.show()\n",
    "# 显示交易笔数，欺诈交易笔数\n",
    "num = len(data)\n",
    "num_fraud = len(data[data[\"Class\"] == 1])\n",
    "print(\"总交易笔数：\", num)\n",
    "print(\"诈骗交易笔数：\", num_fraud)\n",
    "print(\"诈骗交易比例：{:.6f}\".format(num_fraud / num))\n",
    "# 欺诈和正常交易可视化\n",
    "f, (ax1, ax2) = plt.subplots(2, 1, sharex=True, figsize=(15, 8))\n",
    "bins = 50\n",
    "ax1.hist(data.Time[data.Class == 1], bins=bins, color=\"deeppink\")\n",
    "ax1.set_title(\"诈骗交易\")\n",
    "ax2.hist(data.Time[data.Class == 0], bins=bins, color=\"deepskyblue\")\n",
    "ax2.set_title(\"正常交易\")\n",
    "plt.xlabel(\"时间\")\n",
    "plt.ylabel(\"交易次数\")\n",
    "plt.show()"
   ]
  },
  {
   "cell_type": "code",
   "execution_count": null,
   "metadata": {},
   "outputs": [],
   "source": [
    "# 对 Amount 进行数据规范化\n",
    "data[\"Amount_Norm\"] = StandardScaler().fit_transform(\n",
    "    data[\"Amount\"].values.reshape(-1, 1)\n",
    ")"
   ]
  },
  {
   "cell_type": "code",
   "execution_count": null,
   "metadata": {},
   "outputs": [],
   "source": [
    "# 特征选择\n",
    "y = np.array(data.Class.tolist())\n",
    "data = data.drop([\"Time\", \"Amount\", \"Class\"], axis=1)\n",
    "X = np.array(data.as_matrix())\n",
    "# 准备训练集和测试集\n",
    "train_x, test_x, train_y, test_y = train_test_split(\n",
    "    X, y, test_size=0.1, random_state=33\n",
    ")"
   ]
  },
  {
   "cell_type": "code",
   "execution_count": null,
   "metadata": {},
   "outputs": [],
   "source": [
    "# 逻辑回归分类\n",
    "clf = LogisticRegression()\n",
    "clf.fit(train_x, train_y)\n",
    "predict_y = clf.predict(test_x)\n",
    "# 预测样本的置信分数\n",
    "score_y = clf.decision_function(test_x)\n",
    "# 计算混淆矩阵，并显示\n",
    "cm = confusion_matrix(test_y, predict_y)\n",
    "class_names = [0, 1]\n",
    "# 显示混淆矩阵\n",
    "plot_confusion_matrix(cm, classes=class_names, title=\"逻辑回归 混淆矩阵\")\n",
    "# 显示模型评估分数\n",
    "show_metrics(cm)\n",
    "# 计算精确确率，召回率，阈值用于可视化\n",
    "precision, recall, thresholds = precision_recall_curve(test_y, score_y)\n",
    "plot_precision_recall(precision=precision, recall=recall)"
   ]
  }
 ],
 "metadata": {
  "kernelspec": {
   "display_name": "sklearn-env",
   "language": "python",
   "name": "python3"
  },
  "language_info": {
   "codemirror_mode": {
    "name": "ipython",
    "version": 3
   },
   "file_extension": ".py",
   "mimetype": "text/x-python",
   "name": "python",
   "nbconvert_exporter": "python",
   "pygments_lexer": "ipython3",
   "version": "3.11.5"
  },
  "orig_nbformat": 4
 },
 "nbformat": 4,
 "nbformat_minor": 2
}
